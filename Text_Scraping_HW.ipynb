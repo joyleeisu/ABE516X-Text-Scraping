{
 "cells": [
  {
   "cell_type": "markdown",
   "metadata": {},
   "source": [
    "## Text Scraping HW\n",
    "Open Food Facts is a free food products database API. The links below contain the details about 12 different cookie products sold in United States and France. The question would be to find the salt and suger content in each cookie product and analysis if there are any nutriments trend based on the country that the food product is sold at. \n"
   ]
  },
  {
   "cell_type": "code",
   "execution_count": 1,
   "metadata": {},
   "outputs": [
    {
     "data": {
      "text/html": [
       "<div>\n",
       "<style scoped>\n",
       "    .dataframe tbody tr th:only-of-type {\n",
       "        vertical-align: middle;\n",
       "    }\n",
       "\n",
       "    .dataframe tbody tr th {\n",
       "        vertical-align: top;\n",
       "    }\n",
       "\n",
       "    .dataframe thead th {\n",
       "        text-align: right;\n",
       "    }\n",
       "</style>\n",
       "<table border=\"1\" class=\"dataframe\">\n",
       "  <thead>\n",
       "    <tr style=\"text-align: right;\">\n",
       "      <th></th>\n",
       "      <th>Countries</th>\n",
       "      <th>Salt</th>\n",
       "      <th>Sugars</th>\n",
       "    </tr>\n",
       "  </thead>\n",
       "  <tbody>\n",
       "    <tr>\n",
       "      <th>0</th>\n",
       "      <td>United States</td>\n",
       "      <td>0</td>\n",
       "      <td>39</td>\n",
       "    </tr>\n",
       "    <tr>\n",
       "      <th>1</th>\n",
       "      <td>United States</td>\n",
       "      <td>0.508</td>\n",
       "      <td>36.67</td>\n",
       "    </tr>\n",
       "    <tr>\n",
       "      <th>2</th>\n",
       "      <td>United States</td>\n",
       "      <td>0.37846</td>\n",
       "      <td>45.95</td>\n",
       "    </tr>\n",
       "    <tr>\n",
       "      <th>3</th>\n",
       "      <td>United States</td>\n",
       "      <td>0.778</td>\n",
       "      <td>38.7</td>\n",
       "    </tr>\n",
       "    <tr>\n",
       "      <th>4</th>\n",
       "      <td>United States</td>\n",
       "      <td>0.586</td>\n",
       "      <td>38.5</td>\n",
       "    </tr>\n",
       "    <tr>\n",
       "      <th>5</th>\n",
       "      <td>United States</td>\n",
       "      <td>0.902</td>\n",
       "      <td>39.5</td>\n",
       "    </tr>\n",
       "    <tr>\n",
       "      <th>6</th>\n",
       "      <td>France</td>\n",
       "      <td>0.9</td>\n",
       "      <td>22</td>\n",
       "    </tr>\n",
       "    <tr>\n",
       "      <th>7</th>\n",
       "      <td>France</td>\n",
       "      <td>0.55</td>\n",
       "      <td>15</td>\n",
       "    </tr>\n",
       "    <tr>\n",
       "      <th>8</th>\n",
       "      <td>France</td>\n",
       "      <td>0.52</td>\n",
       "      <td>27</td>\n",
       "    </tr>\n",
       "    <tr>\n",
       "      <th>9</th>\n",
       "      <td>France</td>\n",
       "      <td>0.61</td>\n",
       "      <td>16</td>\n",
       "    </tr>\n",
       "    <tr>\n",
       "      <th>10</th>\n",
       "      <td>France</td>\n",
       "      <td>0.6</td>\n",
       "      <td>21.4</td>\n",
       "    </tr>\n",
       "    <tr>\n",
       "      <th>11</th>\n",
       "      <td>France</td>\n",
       "      <td>0.7</td>\n",
       "      <td>0.3</td>\n",
       "    </tr>\n",
       "  </tbody>\n",
       "</table>\n",
       "</div>"
      ],
      "text/plain": [
       "        Countries     Salt Sugars\n",
       "0   United States        0     39\n",
       "1   United States    0.508  36.67\n",
       "2   United States  0.37846  45.95\n",
       "3   United States    0.778   38.7\n",
       "4   United States    0.586   38.5\n",
       "5   United States    0.902   39.5\n",
       "6          France      0.9     22\n",
       "7          France     0.55     15\n",
       "8          France     0.52     27\n",
       "9          France     0.61     16\n",
       "10         France      0.6   21.4\n",
       "11         France      0.7    0.3"
      ]
     },
     "execution_count": 1,
     "metadata": {},
     "output_type": "execute_result"
    }
   ],
   "source": [
    "# Import modules\n",
    "import requests\n",
    "import pandas as pd\n",
    "from pandas import DataFrame\n",
    "\n",
    "# Define source data and lists needed\n",
    "list_product = [\"https://world.openfoodfacts.org/api/v0/product/638564701363.json\", \n",
    "               \"https://world.openfoodfacts.org/api/v0/product/00670043.json\",\n",
    "               \"https://world.openfoodfacts.org/api/v0/product/0310072029251.json\",\n",
    "               \"https://world.openfoodfacts.org/api/v0/product/0044000033392.json\", \n",
    "               \"https://world.openfoodfacts.org/api/v0/product/0014100075226.json\",\n",
    "               \"https://world.openfoodfacts.org/api/v0/product/0018000817818.json\",\n",
    "               \"https://world.openfoodfacts.org/api/v0/product/3564700000656.json\",\n",
    "               \"https://world.openfoodfacts.org/api/v0/product/3229820794532.json\", \n",
    "               \"https://world.openfoodfacts.org/api/v0/product/3175681060586.json\",\n",
    "               \"https://world.openfoodfacts.org/api/v0/product/3229820798769.json\",\n",
    "               \"https://world.openfoodfacts.org/api/v0/product/3245550081155.json\",\n",
    "               \"https://world.openfoodfacts.org/api/v0/product/3229820786841.json\"]\n",
    "list_countries = []\n",
    "list_salt = []\n",
    "list_sugars = []\n",
    "\n",
    "# Load API & get product countries and nutriments info\n",
    "for product in list_product:\n",
    "    \n",
    "    url = product\n",
    "    resp = requests.get(url)\n",
    "    food = resp.json()\n",
    "    \n",
    "    get_countries = food['product']['countries']\n",
    "    list_countries.append(get_countries)\n",
    "    get_salt = food['product']['nutriments']['salt_100g']\n",
    "    list_salt.append(get_salt)\n",
    "    get_sugars = food['product']['nutriments']['sugars_100g']\n",
    "    list_sugars.append(get_sugars)\n",
    "\n",
    "# Combine three lists into one\n",
    "list_cookie = [list_countries, list_salt, list_sugars]\n",
    "\n",
    "# After then\n",
    "# Convert list to data frame\n",
    "df = pd.DataFrame(list_cookie, index = ['Countries' , 'Salt', 'Sugars'])\n",
    "df = df.T\n",
    "df\n"
   ]
  },
  {
   "cell_type": "code",
   "execution_count": 3,
   "metadata": {},
   "outputs": [
    {
     "data": {
      "image/png": "[encoded data removed]",
      "text/plain": [
       "<Figure size 432x288 with 1 Axes>"
      ]
     },
     "metadata": {
      "needs_background": "light"
     },
     "output_type": "display_data"
    }
   ],
   "source": [
    "from mlxtend.plotting import category_scatter\n",
    "\n",
    "# x-label: Salt \n",
    "# y-label: Sugar\n",
    "\n",
    "fig = category_scatter(x = 'Salt', y = 'Sugars', label_col = 'Countries', \n",
    "                       data = df, colors = ('green','red'), markersize = 50.0, \n",
    "                       legend_loc = 'lower left')\n"
   ]
  },
  {
   "cell_type": "markdown",
   "metadata": {},
   "source": [
    "The figure above shows selected cookies products sell in US have higher sugar content and lower salt content than in France. Since the cookies types are manually selected, not randomly selected, it is not appropriate to give causal inference and generalizable conclusion. Original code are posted on github. (https://github.com/joyleeisu/ABE516X-Text-Scraping.git)"
   ]
  }
 ],
 "metadata": {
  "kernelspec": {
   "display_name": "Python 3",
   "language": "python",
   "name": "python3"
  },
  "language_info": {
   "codemirror_mode": {
    "name": "ipython",
    "version": 3
   },
   "file_extension": ".py",
   "mimetype": "text/x-python",
   "name": "python",
   "nbconvert_exporter": "python",
   "pygments_lexer": "ipython3",
   "version": "3.7.3"
  }
 },
 "nbformat": 4,
 "nbformat_minor": 2
}
