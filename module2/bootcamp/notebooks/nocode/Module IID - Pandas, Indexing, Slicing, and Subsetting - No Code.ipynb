{
 "cells": [
  {
   "cell_type": "markdown",
   "metadata": {},
   "source": [
    "\n",
    "## Loading our data\n",
    "\n",
    "We will continue to use the surveys dataset that we worked with in the last\n",
    "episode. Let's reopen and read in the data again:"
   ]
  },
  {
   "cell_type": "code",
   "execution_count": 1,
   "metadata": {},
   "outputs": [],
   "source": []
  },
  {
   "cell_type": "markdown",
   "metadata": {},
   "source": [
    "## Indexing and Slicing in Python\n",
    "\n",
    "We often want to work with subsets of a **DataFrame** object. There are\n",
    "different ways to accomplish this including: using labels (column headings),\n",
    "numeric ranges, or specific x,y index locations.\n",
    "\n",
    "\n",
    "## Selecting data using Labels (Column Headings)\n",
    "\n",
    "We use square brackets `[]` to select a subset of a Python object. For example,\n",
    "we can select all data from a column named `species_id` from the `surveys_df`\n",
    "DataFrame by name. There are two ways to do this:"
   ]
  },
  {
   "cell_type": "code",
   "execution_count": 2,
   "metadata": {},
   "outputs": [
    {
     "data": {
      "text/plain": [
       "0         NL\n",
       "1         NL\n",
       "2         DM\n",
       "3         DM\n",
       "4         DM\n",
       "5         PF\n",
       "6         PE\n",
       "7         DM\n",
       "8         DM\n",
       "9         PF\n",
       "10        DS\n",
       "11        DM\n",
       "12        DM\n",
       "13        DM\n",
       "14        DM\n",
       "15        DM\n",
       "16        DS\n",
       "17        PP\n",
       "18        PF\n",
       "19        DS\n",
       "20        DM\n",
       "21        NL\n",
       "22        DM\n",
       "23        SH\n",
       "24        DM\n",
       "25        DM\n",
       "26        DM\n",
       "27        DM\n",
       "28        PP\n",
       "29        DS\n",
       "        ... \n",
       "35519     SF\n",
       "35520     DM\n",
       "35521     DM\n",
       "35522     DM\n",
       "35523     PB\n",
       "35524     OL\n",
       "35525     OT\n",
       "35526     DO\n",
       "35527     US\n",
       "35528     PB\n",
       "35529     OT\n",
       "35530     PB\n",
       "35531     DM\n",
       "35532     DM\n",
       "35533     DM\n",
       "35534     DM\n",
       "35535     DM\n",
       "35536     DM\n",
       "35537     PB\n",
       "35538     SF\n",
       "35539     PB\n",
       "35540     PB\n",
       "35541     PB\n",
       "35542     PB\n",
       "35543     US\n",
       "35544     AH\n",
       "35545     AH\n",
       "35546     RM\n",
       "35547     DO\n",
       "35548    NaN\n",
       "Name: species_id, Length: 35549, dtype: object"
      ]
     },
     "execution_count": 2,
     "metadata": {},
     "output_type": "execute_result"
    }
   ],
   "source": []
  },
  {
   "cell_type": "markdown",
   "metadata": {},
   "source": [
    "We can also create a new object that contains only the data within the\n",
    "`species_id` column as follows:"
   ]
  },
  {
   "cell_type": "code",
   "execution_count": 3,
   "metadata": {},
   "outputs": [],
   "source": []
  },
  {
   "cell_type": "markdown",
   "metadata": {},
   "source": [
    "We can pass a list of column names too, as an index to select columns in that\n",
    "order. This is useful when we need to reorganize our data.\n",
    "\n",
    "**NOTE:** If a column name is not contained in the DataFrame, an exception\n",
    "(error) will be raised."
   ]
  },
  {
   "cell_type": "code",
   "execution_count": null,
   "metadata": {},
   "outputs": [],
   "source": []
  },
  {
   "cell_type": "markdown",
   "metadata": {},
   "source": [
    "Python tells us what type of error it is in the traceback, at the bottom it says\n",
    "`KeyError: 'speciess'` which means that `speciess` is not a valid column name (nor a valid key in\n",
    "the related Python data type dictionary).\n",
    "\n",
    "## Extracting Range based Subsets: Slicing\n",
    "\n",
    "> ## Reminder\n",
    "> Python uses 0-based indexing.\n",
    "{: .callout}\n",
    "\n",
    "Let's remind ourselves that Python uses 0-based\n",
    "indexing. This means that the first element in an object is located at position 0. This is different from other tools like R and Matlab that index elements\n",
    "within objects starting at 1."
   ]
  },
  {
   "cell_type": "code",
   "execution_count": null,
   "metadata": {},
   "outputs": [],
   "source": []
  },
  {
   "cell_type": "markdown",
   "metadata": {},
   "source": [
    "\n",
    "> ## Challenge - Extracting data\n",
    ">\n",
    "> 1. What value does the code below return?\n",
    ">\n",
    ">    ~~~\n",
    ">    a[0]\n",
    ">    ~~~\n",
    ">\n",
    "> 2. How about this:\n",
    ">\n",
    ">    ~~~\n",
    ">    a[5]\n",
    ">    ~~~\n",
    ">\n",
    "> 3. In the example above, calling `a[5]` returns an error. Why is that?\n",
    ">\n",
    "> 4. What about?\n",
    ">\n",
    ">    ~~~\n",
    ">    a[len(a)]\n",
    ">    ~~~\n",
    "\n",
    "\n",
    "## Slicing Subsets of Rows in Python\n",
    "\n",
    "Slicing using the `[]` operator selects a set of rows and/or columns from a\n",
    "DataFrame. To slice out a set of rows, you use the following syntax:\n",
    "`data[start:stop]`. When slicing in pandas the start bound is included in the\n",
    "output. The stop bound is one step BEYOND the row you want to select. So if you\n",
    "want to select rows 0, 1 and 2 your code would look like this:"
   ]
  },
  {
   "cell_type": "code",
   "execution_count": null,
   "metadata": {},
   "outputs": [],
   "source": []
  },
  {
   "cell_type": "markdown",
   "metadata": {},
   "source": [
    "The stop bound in Python is different from what you might be used to in\n",
    "languages like Matlab and R."
   ]
  },
  {
   "cell_type": "code",
   "execution_count": null,
   "metadata": {},
   "outputs": [],
   "source": []
  },
  {
   "cell_type": "markdown",
   "metadata": {},
   "source": [
    "We can also reassign values within subsets of our DataFrame.\n",
    "\n",
    "But before we do that, let's look at the difference between the concept of\n",
    "copying objects and the concept of referencing objects in Python.\n",
    "\n",
    "## Copying Objects vs Referencing Objects in Python\n",
    "\n",
    "Let's start with an example:"
   ]
  },
  {
   "cell_type": "code",
   "execution_count": null,
   "metadata": {},
   "outputs": [],
   "source": []
  },
  {
   "cell_type": "markdown",
   "metadata": {},
   "source": [
    "\n",
    "\n",
    "You might think that the code `ref_surveys_df = surveys_df` creates a fresh\n",
    "distinct copy of the `surveys_df` DataFrame object. However, using the `=`\n",
    "operator in the simple statement `y = x` does **not** create a copy of our\n",
    "DataFrame. Instead, `y = x` creates a new variable `y` that references the\n",
    "**same** object that `x` refers to. To state this another way, there is only\n",
    "**one** object (the DataFrame), and both `x` and `y` refer to it.\n",
    "\n",
    "In contrast, the `copy()` method for a DataFrame creates a true copy of the\n",
    "DataFrame.\n",
    "\n",
    "Let's look at what happens when we reassign the values within a subset of the\n",
    "DataFrame that references another DataFrame object:"
   ]
  },
  {
   "cell_type": "code",
   "execution_count": null,
   "metadata": {},
   "outputs": [],
   "source": []
  },
  {
   "cell_type": "markdown",
   "metadata": {},
   "source": [
    "\n",
    "Let's try the following code:"
   ]
  },
  {
   "cell_type": "code",
   "execution_count": null,
   "metadata": {},
   "outputs": [],
   "source": []
  },
  {
   "cell_type": "code",
   "execution_count": null,
   "metadata": {},
   "outputs": [],
   "source": []
  },
  {
   "cell_type": "markdown",
   "metadata": {},
   "source": [
    "What is the difference between these two dataframes?\n",
    "\n",
    "When we assigned the first 3 columns the value of `0` using the\n",
    "`ref_surveys_df` DataFrame, the `surveys_df` DataFrame is modified too.\n",
    "Remember we created the reference `ref_survey_df` object above when we did\n",
    "`ref_survey_df = surveys_df`. Remember `surveys_df` and `ref_surveys_df`\n",
    "refer to the same exact DataFrame object. If either one changes the object,\n",
    "the other will see the same changes to the reference object.\n",
    "\n",
    "**To review and recap**:\n",
    "\n",
    "- **Copy** uses the dataframe's `copy()` method\n",
    "\n",
    "  ~~~\n",
    "  true_copy_surveys_df = surveys_df.copy()\n",
    "  ~~~\n",
    "  {: .language-python }\n",
    "- A **Reference** is created using the `=` operator\n",
    "\n",
    "  ~~~\n",
    "  ref_surveys_df = surveys_df\n",
    "  ~~~\n",
    "\n",
    "Okay, that's enough of that. Let's create a brand new clean dataframe from\n",
    "the original data CSV file."
   ]
  },
  {
   "cell_type": "code",
   "execution_count": null,
   "metadata": {},
   "outputs": [],
   "source": []
  },
  {
   "cell_type": "markdown",
   "metadata": {},
   "source": [
    "\n",
    "\n",
    "## Slicing Subsets of Rows and Columns in Python\n",
    "\n",
    "We can select specific ranges of our data in both the row and column directions\n",
    "using either label or integer-based indexing.\n",
    "\n",
    "- `loc` is primarily *label* based indexing. *Integers* may be used but\n",
    "  they are interpreted as a *label*.\n",
    "- `iloc` is primarily *integer* based indexing\n",
    "\n",
    "To select a subset of rows **and** columns from our DataFrame, we can use the\n",
    "`iloc` method. For example, we can select month, day and year (columns 2, 3\n",
    "and 4 if we start counting at 1), like this:"
   ]
  },
  {
   "cell_type": "code",
   "execution_count": null,
   "metadata": {},
   "outputs": [],
   "source": []
  },
  {
   "cell_type": "markdown",
   "metadata": {},
   "source": [
    "\n",
    "which gives the **output**"
   ]
  },
  {
   "cell_type": "markdown",
   "metadata": {},
   "source": [
    "```\n",
    "month  day  year\n",
    "0      7   16  1977\n",
    "1      7   16  1977\n",
    "2      7   16  1977\n",
    "```"
   ]
  },
  {
   "cell_type": "markdown",
   "metadata": {},
   "source": [
    "Notice that we asked for a slice from 0:3. This yielded 3 rows of data. When you\n",
    "ask for 0:3, you are actually telling Python to start at index 0 and select rows\n",
    "0, 1, 2 **up to but not including 3**.\n",
    "\n",
    "Let's explore some other ways to index and select subsets of data:"
   ]
  },
  {
   "cell_type": "code",
   "execution_count": null,
   "metadata": {},
   "outputs": [],
   "source": [
    "\n"
   ]
  },
  {
   "cell_type": "code",
   "execution_count": null,
   "metadata": {},
   "outputs": [],
   "source": []
  },
  {
   "cell_type": "markdown",
   "metadata": {},
   "source": [
    "\n",
    "We can also select a specific data value using a row and\n",
    "column location within the DataFrame and `iloc` indexing:\n",
    "\n",
    "```\n",
    "dat.iloc[row, column]\n",
    "```"
   ]
  },
  {
   "cell_type": "markdown",
   "metadata": {},
   "source": [
    "\n",
    "\n",
    "In this `iloc` example,"
   ]
  },
  {
   "cell_type": "code",
   "execution_count": null,
   "metadata": {},
   "outputs": [],
   "source": []
  },
  {
   "cell_type": "markdown",
   "metadata": {},
   "source": [
    "gives the **output**"
   ]
  },
  {
   "cell_type": "code",
   "execution_count": null,
   "metadata": {},
   "outputs": [],
   "source": []
  },
  {
   "cell_type": "markdown",
   "metadata": {},
   "source": [
    "\n",
    "\n",
    "Remember that Python indexing begins at 0. So, the index location [2, 6]\n",
    "selects the element that is 3 rows down and 7 columns over in the DataFrame.\n",
    "\n",
    "\n",
    "\n",
    "> ## Challenge - Range\n",
    ">\n",
    "> 1. What happens when you execute:\n",
    ">\n",
    ">    - `surveys_df[0:1]`\n",
    ">    - `surveys_df[:4]`\n",
    ">    - `surveys_df[:-1]`\n",
    ">\n",
    "> 2. What happens when you call:\n",
    ">\n",
    ">    - `surveys_df.iloc[0:4, 1:4]`\n",
    ">    - `surveys_df.loc[0:4, 1:4]`\n",
    ">\n",
    "> - How are the two commands different?\n",
    "{: .challenge}\n",
    "\n",
    "\n",
    "## Subsetting Data using Criteria\n",
    "\n",
    "We can also select a subset of our data using criteria. For example, we can\n",
    "select all rows that have a year value of 2002:"
   ]
  },
  {
   "cell_type": "code",
   "execution_count": null,
   "metadata": {},
   "outputs": [],
   "source": []
  },
  {
   "cell_type": "markdown",
   "metadata": {},
   "source": [
    "\n",
    "\n",
    "Or we can select all rows that do not contain the year 2002:"
   ]
  },
  {
   "cell_type": "code",
   "execution_count": null,
   "metadata": {},
   "outputs": [],
   "source": []
  },
  {
   "cell_type": "markdown",
   "metadata": {},
   "source": [
    "\n",
    "\n",
    "We can define sets of criteria too:"
   ]
  },
  {
   "cell_type": "code",
   "execution_count": null,
   "metadata": {},
   "outputs": [],
   "source": []
  },
  {
   "cell_type": "markdown",
   "metadata": {},
   "source": [
    "\n",
    "\n",
    "### Python Syntax Cheat Sheet\n",
    "\n",
    "We can use the syntax below when querying data by criteria from a DataFrame.\n",
    "Experiment with selecting various subsets of the \"surveys\" data.\n",
    "\n",
    "* Equals: `==`\n",
    "* Not equals: `!=`\n",
    "* Greater than, less than: `>` or `<`\n",
    "* Greater than or equal to `>=`\n",
    "* Less than or equal to `<=`\n",
    "\n",
    "\n",
    "> ## Challenge - Queries\n",
    ">\n",
    "> 1. Select a subset of rows in the `surveys_df` DataFrame that contain data from\n",
    ">   the year 1999 and that contain weight values less than or equal to 8. How\n",
    ">   many rows did you end up with? What did your neighbor get?\n",
    ">\n",
    "> 2. You can use the `isin` command in Python to query a DataFrame based upon a\n",
    ">   list of values as follows:\n",
    ">\n",
    ">    ~~~\n",
    ">    surveys_df[surveys_df['species_id'].isin([listGoesHere])]\n",
    ">    ~~~\n",
    ">    {: .language-python }\n",
    ">\n",
    ">   Use the `isin` function to find all plots that contain particular species\n",
    ">   in the \"surveys\" DataFrame. How many records contain these values?\n",
    ">\n",
    "> 3. Experiment with other queries. Create a query that finds all rows with a\n",
    ">   weight value > or equal to 0.\n",
    ">\n",
    "> 4. The `~` symbol in Python can be used to return the OPPOSITE of the\n",
    ">   selection that you specify in Python. It is equivalent to **is not in**.\n",
    ">   Write a query that selects all rows with sex NOT equal to 'M' or 'F' in\n",
    ">   the \"surveys\" data.\n",
    "{: .challenge}\n",
    "\n",
    "\n",
    "# Using masks to identify a specific condition\n",
    "\n",
    "A **mask** can be useful to locate where a particular subset of values exist or\n",
    "don't exist - for example,  NaN, or \"Not a Number\" values. To understand masks,\n",
    "we also need to understand `BOOLEAN` objects in Python.\n",
    "\n",
    "Boolean values include `True` or `False`. For example,"
   ]
  },
  {
   "cell_type": "code",
   "execution_count": null,
   "metadata": {},
   "outputs": [],
   "source": []
  },
  {
   "cell_type": "markdown",
   "metadata": {},
   "source": [
    "\n",
    "\n",
    "When we ask Python whether `x` is greater than 5, it returns `False`.\n",
    "This is Python's way to say \"No\". Indeed, the value of `x` is 5,\n",
    "and 5 is not greater than 5.\n",
    "\n",
    "To create a boolean mask:\n",
    "\n",
    "- Set the True / False criteria (e.g. `values > 5 = True`)\n",
    "- Python will then assess each value in the object to determine whether the\n",
    "  value meets the criteria (True) or not (False).\n",
    "- Python creates an output object that is the same shape as the original\n",
    "  object, but with a `True` or `False` value for each index location.\n",
    "\n",
    "Let's try this out. Let's identify all locations in the survey data that have\n",
    "null (missing or NaN) data values. We can use the `isnull` method to do this.\n",
    "The `isnull` method will compare each cell with a null value. If an element\n",
    "has a null value, it will be assigned a value of  `True` in the output object."
   ]
  },
  {
   "cell_type": "code",
   "execution_count": null,
   "metadata": {},
   "outputs": [],
   "source": []
  },
  {
   "cell_type": "markdown",
   "metadata": {},
   "source": [
    "\n",
    "To select the rows where there are null values, we can use\n",
    "the mask as an index to subset our data as follows:"
   ]
  },
  {
   "cell_type": "code",
   "execution_count": null,
   "metadata": {},
   "outputs": [],
   "source": []
  },
  {
   "cell_type": "markdown",
   "metadata": {},
   "source": [
    "\n",
    "\n",
    "Note that the `weight` column of our DataFrame contains many `null` or `NaN`\n",
    "values. We will explore ways of dealing with this in Lesson 03.\n",
    "\n",
    "We can run `isnull` on a particular column too. What does the code below do?"
   ]
  },
  {
   "cell_type": "code",
   "execution_count": null,
   "metadata": {},
   "outputs": [],
   "source": []
  },
  {
   "cell_type": "markdown",
   "metadata": {},
   "source": [
    "\n",
    "\n",
    "Let's take a minute to look at the statement above. We are using the Boolean\n",
    "object `pd.isnull(surveys_df['weight'])` as an index to `surveys_df`. We are\n",
    "asking Python to select rows that have a `NaN` value of weight.\n",
    "\n",
    "\n",
    "> ## Challenge - Putting it all together\n",
    ">\n",
    "> 1. Create a new DataFrame that only contains observations with sex values that\n",
    ">   are **not** female or male. Assign each sex value in the new DataFrame to a\n",
    ">   new value of 'x'. Determine the number of null values in the subset.\n",
    ">\n",
    "> 2. Create a new DataFrame that contains only observations that are of sex male\n",
    ">   or female and where weight values are greater than 0. Create a stacked bar\n",
    ">   plot of average weight by plot with male vs female values stacked for each\n",
    ">   plot.\n",
    "{: .challenge}\n",
    "\n"
   ]
  },
  {
   "cell_type": "code",
   "execution_count": null,
   "metadata": {
    "collapsed": true
   },
   "outputs": [],
   "source": []
  }
 ],
 "metadata": {
  "kernelspec": {
   "display_name": "Python 3",
   "language": "python",
   "name": "python3"
  },
  "language_info": {
   "codemirror_mode": {
    "name": "ipython",
    "version": 3
   },
   "file_extension": ".py",
   "mimetype": "text/x-python",
   "name": "python",
   "nbconvert_exporter": "python",
   "pygments_lexer": "ipython3",
   "version": "3.7.0"
  }
 },
 "nbformat": 4,
 "nbformat_minor": 2
}
